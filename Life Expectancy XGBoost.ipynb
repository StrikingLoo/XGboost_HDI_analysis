{
 "cells": [
  {
   "cell_type": "code",
   "execution_count": 101,
   "metadata": {},
   "outputs": [],
   "source": [
    "import pandas as pd\n",
    "import xgboost as xgb"
   ]
  },
  {
   "cell_type": "code",
   "execution_count": 103,
   "metadata": {},
   "outputs": [],
   "source": [
    "df = pd.read_csv(\"2018_all_indicators.csv\")"
   ]
  },
  {
   "cell_type": "code",
   "execution_count": 104,
   "metadata": {},
   "outputs": [],
   "source": [
    "df = df[['dimension','indicator_name','iso3','country_name','2017']]"
   ]
  },
  {
   "cell_type": "code",
   "execution_count": 105,
   "metadata": {},
   "outputs": [
    {
     "data": {
      "text/plain": [
       "(25636, 5)"
      ]
     },
     "execution_count": 105,
     "metadata": {},
     "output_type": "execute_result"
    }
   ],
   "source": [
    "df.shape"
   ]
  },
  {
   "cell_type": "code",
   "execution_count": 106,
   "metadata": {},
   "outputs": [],
   "source": [
    "df = df.dropna()"
   ]
  },
  {
   "cell_type": "code",
   "execution_count": 107,
   "metadata": {},
   "outputs": [
    {
     "data": {
      "text/plain": [
       "(12728, 5)"
      ]
     },
     "execution_count": 107,
     "metadata": {},
     "output_type": "execute_result"
    }
   ],
   "source": [
    "df.shape"
   ]
  },
  {
   "cell_type": "code",
   "execution_count": 108,
   "metadata": {},
   "outputs": [
    {
     "data": {
      "text/plain": [
       "(195,)"
      ]
     },
     "execution_count": 108,
     "metadata": {},
     "output_type": "execute_result"
    }
   ],
   "source": [
    "df.iso3.unique().shape"
   ]
  },
  {
   "cell_type": "code",
   "execution_count": 109,
   "metadata": {},
   "outputs": [],
   "source": [
    "country_codes = list(df.iso3.unique())"
   ]
  },
  {
   "cell_type": "code",
   "execution_count": 110,
   "metadata": {},
   "outputs": [
    {
     "data": {
      "text/plain": [
       "['AFG',\n",
       " 'ALB',\n",
       " 'DZA',\n",
       " 'AND',\n",
       " 'AGO',\n",
       " 'ATG',\n",
       " 'ARG',\n",
       " 'ARM',\n",
       " 'AUS',\n",
       " 'AUT',\n",
       " 'AZE',\n",
       " 'BHS',\n",
       " 'BHR',\n",
       " 'BGD',\n",
       " 'BRB',\n",
       " 'BLR',\n",
       " 'BEL',\n",
       " 'BLZ',\n",
       " 'BEN',\n",
       " 'BTN',\n",
       " 'BOL',\n",
       " 'BIH',\n",
       " 'BWA',\n",
       " 'BRA',\n",
       " 'BRN',\n",
       " 'BGR',\n",
       " 'BFA',\n",
       " 'BDI',\n",
       " 'CPV',\n",
       " 'KHM',\n",
       " 'CMR',\n",
       " 'CAN',\n",
       " 'CAF',\n",
       " 'TCD',\n",
       " 'CHL',\n",
       " 'CHN',\n",
       " 'COL',\n",
       " 'COM',\n",
       " 'COG',\n",
       " 'COD',\n",
       " 'CRI',\n",
       " 'CIV',\n",
       " 'HRV',\n",
       " 'CUB',\n",
       " 'CYP',\n",
       " 'CZE',\n",
       " 'DNK',\n",
       " 'DJI',\n",
       " 'DMA',\n",
       " 'DOM',\n",
       " 'ECU',\n",
       " 'EGY',\n",
       " 'SLV',\n",
       " 'GNQ',\n",
       " 'ERI',\n",
       " 'EST',\n",
       " 'SWZ',\n",
       " 'ETH',\n",
       " 'FJI',\n",
       " 'FIN',\n",
       " 'FRA',\n",
       " 'GAB',\n",
       " 'GMB',\n",
       " 'GEO',\n",
       " 'DEU',\n",
       " 'GHA',\n",
       " 'GRC',\n",
       " 'GRD',\n",
       " 'GTM',\n",
       " 'GIN',\n",
       " 'GNB',\n",
       " 'GUY',\n",
       " 'HTI',\n",
       " 'HND',\n",
       " 'HKG',\n",
       " 'HUN',\n",
       " 'ISL',\n",
       " 'IND',\n",
       " 'IDN',\n",
       " 'IRN',\n",
       " 'IRQ',\n",
       " 'IRL',\n",
       " 'ISR',\n",
       " 'ITA',\n",
       " 'JAM',\n",
       " 'JPN',\n",
       " 'JOR',\n",
       " 'KAZ',\n",
       " 'KEN',\n",
       " 'KIR',\n",
       " 'KOR',\n",
       " 'KWT',\n",
       " 'KGZ',\n",
       " 'LAO',\n",
       " 'LVA',\n",
       " 'LBN',\n",
       " 'LSO',\n",
       " 'LBR',\n",
       " 'LBY',\n",
       " 'LIE',\n",
       " 'LTU',\n",
       " 'LUX',\n",
       " 'MDG',\n",
       " 'MWI',\n",
       " 'MYS',\n",
       " 'MDV',\n",
       " 'MLI',\n",
       " 'MLT',\n",
       " 'MHL',\n",
       " 'MRT',\n",
       " 'MUS',\n",
       " 'MEX',\n",
       " 'FSM',\n",
       " 'MDA',\n",
       " 'MNG',\n",
       " 'MNE',\n",
       " 'MAR',\n",
       " 'MOZ',\n",
       " 'MMR',\n",
       " 'NAM',\n",
       " 'NPL',\n",
       " 'NLD',\n",
       " 'NZL',\n",
       " 'NIC',\n",
       " 'NER',\n",
       " 'NGA',\n",
       " 'NOR',\n",
       " 'OMN',\n",
       " 'PAK',\n",
       " 'PLW',\n",
       " 'PSE',\n",
       " 'PAN',\n",
       " 'PNG',\n",
       " 'PRY',\n",
       " 'PER',\n",
       " 'PHL',\n",
       " 'POL',\n",
       " 'PRT',\n",
       " 'QAT',\n",
       " 'ROU',\n",
       " 'RUS',\n",
       " 'RWA',\n",
       " 'KNA',\n",
       " 'LCA',\n",
       " 'VCT',\n",
       " 'WSM',\n",
       " 'STP',\n",
       " 'SAU',\n",
       " 'SEN',\n",
       " 'SRB',\n",
       " 'SYC',\n",
       " 'SLE',\n",
       " 'SGP',\n",
       " 'SVK',\n",
       " 'SVN',\n",
       " 'SLB',\n",
       " 'ZAF',\n",
       " 'SSD',\n",
       " 'ESP',\n",
       " 'LKA',\n",
       " 'SDN',\n",
       " 'SUR',\n",
       " 'SWE',\n",
       " 'CHE',\n",
       " 'SYR',\n",
       " 'TJK',\n",
       " 'TZA',\n",
       " 'THA',\n",
       " 'MKD',\n",
       " 'TLS',\n",
       " 'TGO',\n",
       " 'TON',\n",
       " 'TTO',\n",
       " 'TUN',\n",
       " 'TUR',\n",
       " 'TKM',\n",
       " 'UGA',\n",
       " 'UKR',\n",
       " 'ARE',\n",
       " 'GBR',\n",
       " 'USA',\n",
       " 'URY',\n",
       " 'UZB',\n",
       " 'VUT',\n",
       " 'VEN',\n",
       " 'VNM',\n",
       " 'YEM',\n",
       " 'ZMB',\n",
       " 'ZWE',\n",
       " 'PRK',\n",
       " 'SOM',\n",
       " 'MCO',\n",
       " 'NRU',\n",
       " 'SMR',\n",
       " 'TUV']"
      ]
     },
     "execution_count": 110,
     "metadata": {},
     "output_type": "execute_result"
    }
   ],
   "source": [
    "country_codes"
   ]
  },
  {
   "cell_type": "code",
   "execution_count": 111,
   "metadata": {},
   "outputs": [
    {
     "data": {
      "text/plain": [
       "array(['HDI rank', 'Human Development Index (HDI)',\n",
       "       'Old-age (65 and older) dependency ratio (per 100 people ages 15-64)',\n",
       "       'Population ages 15–64 (millions)',\n",
       "       'Population ages 65 and older (millions)',\n",
       "       'Population under age 5 (millions)',\n",
       "       'Sex ratio at birth (male to female births)',\n",
       "       'Total population (millions)', 'Urban population (%)',\n",
       "       'Young age (0-14) dependency ratio (per 100 people ages 15-64)',\n",
       "       'Education index', 'Expected years of schooling (years)',\n",
       "       'Expected years of schooling, female (years)',\n",
       "       'Expected years of schooling, male (years)',\n",
       "       'Government expenditure on education (% of GDP)',\n",
       "       'Gross enrolment ratio, pre-primary (% of preschool-age children)',\n",
       "       'Gross enrolment ratio, primary (% of primary school-age population)',\n",
       "       'Gross enrolment ratio, secondary (% of secondary school-age population)',\n",
       "       'Gross enrolment ratio, tertiary (% of tertiary school-age population)',\n",
       "       'Mean years of schooling (years)',\n",
       "       'Mean years of schooling, female (years)',\n",
       "       'Mean years of schooling, male (years)',\n",
       "       'Population with at least some secondary education (% ages 25 and older)',\n",
       "       'Population with at least some secondary education, female (% ages 25 and older)',\n",
       "       'Population with at least some secondary education, male (% ages 25 and older)',\n",
       "       'Primary school teachers trained to teach (%)',\n",
       "       'Pupil-teacher ratio, primary school (pupils per teacher)',\n",
       "       'Red List Index (value)',\n",
       "       'Adolescent birth rate (births per 1,000 women ages 15-19)',\n",
       "       'Antenatal care coverage, at least one visit (%)',\n",
       "       'Contraceptive prevalence, any method (% of married or in-union women of reproductive age, 15–49 years)',\n",
       "       'Estimated gross national income per capita, female (2011 PPP $)',\n",
       "       'Estimated gross national income per capita, male (2011 PPP $)',\n",
       "       'Female share of employment in senior and middle management (%)',\n",
       "       'Gender Development Index (GDI)', 'Gender Inequality Index (GII)',\n",
       "       'Human Development Index (HDI), female',\n",
       "       'Human Development Index (HDI), male',\n",
       "       'Mandatory paid maternity leave (days)',\n",
       "       'Maternal mortality ratio (deaths per 100,000 live births)',\n",
       "       'Proportion of births attended by skilled health personnel (%)',\n",
       "       'Share of employment in nonagriculture, female (% of total employment in nonagriculture)',\n",
       "       'Share of seats in parliament (% held by women)',\n",
       "       'Total unemployment rate (female to male ratio)',\n",
       "       'Unmet need for family planning (% of married or in-union women of reproductive age, 15–49 years)',\n",
       "       'Women with account at financial institution or with mobile money-service provider (% of female population ages 15 and older)',\n",
       "       'Youth unemployment rate (female to male ratio)',\n",
       "       'Infants lacking immunization, DPT (% of one-year-olds)',\n",
       "       'Infants lacking immunization, measles (% of one-year-olds)',\n",
       "       'Life expectancy at birth (years)',\n",
       "       'Life expectancy at birth, female (years)',\n",
       "       'Life expectancy at birth, male (years)', 'Life expectancy index',\n",
       "       'Refugees by country of origin (thousands)',\n",
       "       'Domestic credit provided by financial sector (% of GDP)',\n",
       "       'GDP per capita (2011 PPP $)',\n",
       "       'Gross domestic product (GDP), total (2011 PPP $ billions)',\n",
       "       'Gross fixed capital formation (% of GDP)',\n",
       "       'Gross national income (GNI) per capita (2011 PPP $)',\n",
       "       'Income index', 'Coefficient of human inequality',\n",
       "       'Inequality in education (%)', 'Inequality in income (%)',\n",
       "       'Inequality in life expectancy (%)',\n",
       "       'Inequality-adjusted education index',\n",
       "       'Inequality-adjusted HDI (IHDI)',\n",
       "       'Inequality-adjusted income index',\n",
       "       'Inequality-adjusted life expectancy index',\n",
       "       'Overall loss in HDI due to inequality (%)',\n",
       "       'International student mobility (% of total tertiary enrolment)',\n",
       "       'MPI 2018: Contribution of Education',\n",
       "       'MPI 2018: Contribution of Health',\n",
       "       'MPI 2018: Contribution of standard of living',\n",
       "       'Multidimensional poverty index (MPI)',\n",
       "       'Population in multidimensional poverty, headcount (%)',\n",
       "       'Population in multidimensional poverty, headcount (thousands) (for the year of the survey)',\n",
       "       'Population in multidimensional poverty, headcount (thousands) (projection for 2016)',\n",
       "       'Population in multidimensional poverty, intensity of deprivation (%)',\n",
       "       'Population in severe multidimensional poverty (%)',\n",
       "       'Population vulnerable to multidimensional poverty (%)',\n",
       "       'Working poor at PPP$3.10 a day (% of total employment)',\n",
       "       'Gross capital formation (% of GDP)',\n",
       "       'Skilled labour force (% of labour force)',\n",
       "       'Exports and imports (% of GDP)',\n",
       "       'Foreign direct investment, net inflows (% of GDP)',\n",
       "       'Private capital flows (% of GDP)',\n",
       "       'Remittances, inflows (% of GDP)',\n",
       "       'Employment in agriculture (% of total employment)',\n",
       "       'Employment in services (% of total employment)',\n",
       "       'Employment to population ratio (% ages 15 and older)',\n",
       "       'Labour force participation rate (% ages 15 and older)',\n",
       "       'Labour force participation rate (% ages 15 and older), female',\n",
       "       'Labour force participation rate (% ages 15 and older), male',\n",
       "       'Unemployment, total (% of labour force)',\n",
       "       'Unemployment, youth (% ages 15–24)',\n",
       "       'Vulnerable employment (% of total employment)',\n",
       "       'Youth not in school or employment (% ages 15-24)'], dtype=object)"
      ]
     },
     "execution_count": 111,
     "metadata": {},
     "output_type": "execute_result"
    }
   ],
   "source": [
    "df['indicator_name'].unique()"
   ]
  },
  {
   "cell_type": "code",
   "execution_count": 112,
   "metadata": {},
   "outputs": [
    {
     "data": {
      "text/plain": [
       "array(['Composite indices', 'Demography', 'Education',\n",
       "       'Environmental sustainability', 'Gender', 'Health',\n",
       "       'Human Security', 'Income/composition of resources', 'Inequality',\n",
       "       'Mobility and communication', 'Poverty',\n",
       "       'Socio-economic sustainability', 'Trade and financial flows',\n",
       "       'Work, employment and vulnerability'], dtype=object)"
      ]
     },
     "execution_count": 112,
     "metadata": {},
     "output_type": "execute_result"
    }
   ],
   "source": [
    "df['dimension'].unique()"
   ]
  },
  {
   "cell_type": "code",
   "execution_count": 113,
   "metadata": {},
   "outputs": [],
   "source": [
    "def indicators_in_dimension(dimension):\n",
    "    return list(df[df['dimension']==dimension]['indicator_name'].unique())"
   ]
  },
  {
   "cell_type": "code",
   "execution_count": 114,
   "metadata": {},
   "outputs": [
    {
     "data": {
      "text/plain": [
       "['Infants lacking immunization, DPT (% of one-year-olds)',\n",
       " 'Infants lacking immunization, measles (% of one-year-olds)',\n",
       " 'Life expectancy at birth (years)',\n",
       " 'Life expectancy at birth, female (years)',\n",
       " 'Life expectancy at birth, male (years)',\n",
       " 'Life expectancy index']"
      ]
     },
     "execution_count": 114,
     "metadata": {},
     "output_type": "execute_result"
    }
   ],
   "source": [
    "indicators_in_dimension(\"Health\")"
   ]
  },
  {
   "cell_type": "code",
   "execution_count": 115,
   "metadata": {},
   "outputs": [],
   "source": [
    "def indicators_in_dimension(indicator):\n",
    "    indicator_data = df[df['indicator_name']==indicator]\n",
    "    zipped_values = zip(list(indicator_data['iso3']),list(indicator_data['2017']))\n",
    "    return {k:{indicator : v} for k,v in zipped_values}"
   ]
  },
  {
   "cell_type": "code",
   "execution_count": 116,
   "metadata": {},
   "outputs": [],
   "source": [
    "life_expec = 'Life expectancy at birth (years)'\n",
    "indic = indicators_in_dimension(life_expec)"
   ]
  },
  {
   "cell_type": "code",
   "execution_count": 117,
   "metadata": {},
   "outputs": [
    {
     "name": "stdout",
     "output_type": "stream",
     "text": [
      "AFG {'Life expectancy at birth (years)': 64.0}\n",
      "ALB {'Life expectancy at birth (years)': 78.5}\n",
      "DZA {'Life expectancy at birth (years)': 76.3}\n",
      "AND {'Life expectancy at birth (years)': 81.7}\n",
      "AGO {'Life expectancy at birth (years)': 61.8}\n",
      "ATG {'Life expectancy at birth (years)': 76.5}\n",
      "ARG {'Life expectancy at birth (years)': 76.7}\n",
      "ARM {'Life expectancy at birth (years)': 74.8}\n",
      "AUS {'Life expectancy at birth (years)': 83.1}\n",
      "AUT {'Life expectancy at birth (years)': 81.8}\n",
      "AZE {'Life expectancy at birth (years)': 72.1}\n",
      "BHS {'Life expectancy at birth (years)': 75.8}\n",
      "BHR {'Life expectancy at birth (years)': 77.0}\n",
      "BGD {'Life expectancy at birth (years)': 72.8}\n",
      "BRB {'Life expectancy at birth (years)': 76.1}\n",
      "BLR {'Life expectancy at birth (years)': 73.1}\n",
      "BEL {'Life expectancy at birth (years)': 81.3}\n",
      "BLZ {'Life expectancy at birth (years)': 70.6}\n",
      "BEN {'Life expectancy at birth (years)': 61.2}\n",
      "BTN {'Life expectancy at birth (years)': 70.6}\n",
      "BOL {'Life expectancy at birth (years)': 69.5}\n",
      "BIH {'Life expectancy at birth (years)': 77.1}\n",
      "BWA {'Life expectancy at birth (years)': 67.6}\n",
      "BRA {'Life expectancy at birth (years)': 75.7}\n",
      "BRN {'Life expectancy at birth (years)': 77.4}\n",
      "BGR {'Life expectancy at birth (years)': 74.9}\n",
      "BFA {'Life expectancy at birth (years)': 60.8}\n",
      "BDI {'Life expectancy at birth (years)': 57.9}\n",
      "CPV {'Life expectancy at birth (years)': 73.0}\n",
      "KHM {'Life expectancy at birth (years)': 69.3}\n",
      "CMR {'Life expectancy at birth (years)': 58.6}\n",
      "CAN {'Life expectancy at birth (years)': 82.5}\n",
      "CAF {'Life expectancy at birth (years)': 52.9}\n",
      "TCD {'Life expectancy at birth (years)': 53.2}\n",
      "CHL {'Life expectancy at birth (years)': 79.7}\n",
      "CHN {'Life expectancy at birth (years)': 76.4}\n",
      "COL {'Life expectancy at birth (years)': 74.6}\n",
      "COM {'Life expectancy at birth (years)': 63.9}\n",
      "COG {'Life expectancy at birth (years)': 65.1}\n",
      "COD {'Life expectancy at birth (years)': 60.0}\n",
      "CRI {'Life expectancy at birth (years)': 80.0}\n",
      "CIV {'Life expectancy at birth (years)': 54.1}\n",
      "HRV {'Life expectancy at birth (years)': 77.8}\n",
      "CUB {'Life expectancy at birth (years)': 79.9}\n",
      "CYP {'Life expectancy at birth (years)': 80.7}\n",
      "CZE {'Life expectancy at birth (years)': 78.9}\n",
      "DNK {'Life expectancy at birth (years)': 80.9}\n",
      "DJI {'Life expectancy at birth (years)': 62.6}\n",
      "DMA {'Life expectancy at birth (years)': 78.0}\n",
      "DOM {'Life expectancy at birth (years)': 74.0}\n",
      "ECU {'Life expectancy at birth (years)': 76.6}\n",
      "EGY {'Life expectancy at birth (years)': 71.7}\n",
      "SLV {'Life expectancy at birth (years)': 73.8}\n",
      "GNQ {'Life expectancy at birth (years)': 57.9}\n",
      "ERI {'Life expectancy at birth (years)': 65.5}\n",
      "EST {'Life expectancy at birth (years)': 77.7}\n",
      "SWZ {'Life expectancy at birth (years)': 58.3}\n",
      "ETH {'Life expectancy at birth (years)': 65.9}\n",
      "FJI {'Life expectancy at birth (years)': 70.4}\n",
      "FIN {'Life expectancy at birth (years)': 81.5}\n",
      "FRA {'Life expectancy at birth (years)': 82.7}\n",
      "GAB {'Life expectancy at birth (years)': 66.5}\n",
      "GMB {'Life expectancy at birth (years)': 61.4}\n",
      "GEO {'Life expectancy at birth (years)': 73.4}\n",
      "DEU {'Life expectancy at birth (years)': 81.2}\n",
      "GHA {'Life expectancy at birth (years)': 63.0}\n",
      "GRC {'Life expectancy at birth (years)': 81.4}\n",
      "GRD {'Life expectancy at birth (years)': 73.8}\n",
      "GTM {'Life expectancy at birth (years)': 73.7}\n",
      "GIN {'Life expectancy at birth (years)': 60.6}\n",
      "GNB {'Life expectancy at birth (years)': 57.8}\n",
      "GUY {'Life expectancy at birth (years)': 66.8}\n",
      "HTI {'Life expectancy at birth (years)': 63.6}\n",
      "HND {'Life expectancy at birth (years)': 73.8}\n",
      "HKG {'Life expectancy at birth (years)': 84.1}\n",
      "HUN {'Life expectancy at birth (years)': 76.1}\n",
      "ISL {'Life expectancy at birth (years)': 82.9}\n",
      "IND {'Life expectancy at birth (years)': 68.8}\n",
      "IDN {'Life expectancy at birth (years)': 69.4}\n",
      "IRN {'Life expectancy at birth (years)': 76.2}\n",
      "IRQ {'Life expectancy at birth (years)': 70.0}\n",
      "IRL {'Life expectancy at birth (years)': 81.6}\n",
      "ISR {'Life expectancy at birth (years)': 82.7}\n",
      "ITA {'Life expectancy at birth (years)': 83.2}\n",
      "JAM {'Life expectancy at birth (years)': 76.1}\n",
      "JPN {'Life expectancy at birth (years)': 83.9}\n",
      "JOR {'Life expectancy at birth (years)': 74.5}\n",
      "KAZ {'Life expectancy at birth (years)': 70.0}\n",
      "KEN {'Life expectancy at birth (years)': 67.3}\n",
      "KIR {'Life expectancy at birth (years)': 66.5}\n",
      "PRK {'Life expectancy at birth (years)': 71.9}\n",
      "KOR {'Life expectancy at birth (years)': 82.4}\n",
      "KWT {'Life expectancy at birth (years)': 74.8}\n",
      "KGZ {'Life expectancy at birth (years)': 71.1}\n",
      "LAO {'Life expectancy at birth (years)': 67.0}\n",
      "LVA {'Life expectancy at birth (years)': 74.7}\n",
      "LBN {'Life expectancy at birth (years)': 79.8}\n",
      "LSO {'Life expectancy at birth (years)': 54.6}\n",
      "LBR {'Life expectancy at birth (years)': 63.0}\n",
      "LBY {'Life expectancy at birth (years)': 72.1}\n",
      "LIE {'Life expectancy at birth (years)': 80.4}\n",
      "LTU {'Life expectancy at birth (years)': 74.8}\n",
      "LUX {'Life expectancy at birth (years)': 82.0}\n",
      "MDG {'Life expectancy at birth (years)': 66.3}\n",
      "MWI {'Life expectancy at birth (years)': 63.7}\n",
      "MYS {'Life expectancy at birth (years)': 75.5}\n",
      "MDV {'Life expectancy at birth (years)': 77.6}\n",
      "MLI {'Life expectancy at birth (years)': 58.5}\n",
      "MLT {'Life expectancy at birth (years)': 81.0}\n",
      "MHL {'Life expectancy at birth (years)': 73.6}\n",
      "MRT {'Life expectancy at birth (years)': 63.4}\n",
      "MUS {'Life expectancy at birth (years)': 74.9}\n",
      "MEX {'Life expectancy at birth (years)': 77.3}\n",
      "FSM {'Life expectancy at birth (years)': 69.3}\n",
      "MDA {'Life expectancy at birth (years)': 71.7}\n",
      "MNG {'Life expectancy at birth (years)': 69.5}\n",
      "MNE {'Life expectancy at birth (years)': 77.3}\n",
      "MAR {'Life expectancy at birth (years)': 76.1}\n",
      "MOZ {'Life expectancy at birth (years)': 58.9}\n",
      "MMR {'Life expectancy at birth (years)': 66.7}\n",
      "NAM {'Life expectancy at birth (years)': 64.8}\n",
      "NPL {'Life expectancy at birth (years)': 70.6}\n",
      "NLD {'Life expectancy at birth (years)': 82.0}\n",
      "NZL {'Life expectancy at birth (years)': 82.0}\n",
      "NIC {'Life expectancy at birth (years)': 75.7}\n",
      "NER {'Life expectancy at birth (years)': 60.4}\n",
      "NGA {'Life expectancy at birth (years)': 53.9}\n",
      "NOR {'Life expectancy at birth (years)': 82.3}\n",
      "OMN {'Life expectancy at birth (years)': 77.3}\n",
      "PAK {'Life expectancy at birth (years)': 66.6}\n",
      "PLW {'Life expectancy at birth (years)': 73.4}\n",
      "PSE {'Life expectancy at birth (years)': 73.6}\n",
      "PAN {'Life expectancy at birth (years)': 78.2}\n",
      "PNG {'Life expectancy at birth (years)': 65.7}\n",
      "PRY {'Life expectancy at birth (years)': 73.2}\n",
      "PER {'Life expectancy at birth (years)': 75.2}\n",
      "PHL {'Life expectancy at birth (years)': 69.2}\n",
      "POL {'Life expectancy at birth (years)': 77.8}\n",
      "PRT {'Life expectancy at birth (years)': 81.4}\n",
      "QAT {'Life expectancy at birth (years)': 78.3}\n",
      "ROU {'Life expectancy at birth (years)': 75.6}\n",
      "RUS {'Life expectancy at birth (years)': 71.2}\n",
      "RWA {'Life expectancy at birth (years)': 67.5}\n",
      "KNA {'Life expectancy at birth (years)': 74.4}\n",
      "LCA {'Life expectancy at birth (years)': 75.7}\n",
      "VCT {'Life expectancy at birth (years)': 73.3}\n",
      "WSM {'Life expectancy at birth (years)': 75.2}\n",
      "STP {'Life expectancy at birth (years)': 66.8}\n",
      "SAU {'Life expectancy at birth (years)': 74.7}\n",
      "SEN {'Life expectancy at birth (years)': 67.5}\n",
      "SRB {'Life expectancy at birth (years)': 75.3}\n",
      "SYC {'Life expectancy at birth (years)': 73.7}\n",
      "SLE {'Life expectancy at birth (years)': 52.2}\n",
      "SGP {'Life expectancy at birth (years)': 83.2}\n",
      "SVK {'Life expectancy at birth (years)': 77.0}\n",
      "SVN {'Life expectancy at birth (years)': 81.1}\n",
      "SLB {'Life expectancy at birth (years)': 71.0}\n",
      "SOM {'Life expectancy at birth (years)': 56.7}\n",
      "ZAF {'Life expectancy at birth (years)': 63.4}\n",
      "SSD {'Life expectancy at birth (years)': 57.3}\n",
      "ESP {'Life expectancy at birth (years)': 83.3}\n",
      "LKA {'Life expectancy at birth (years)': 75.5}\n",
      "SDN {'Life expectancy at birth (years)': 64.7}\n",
      "SUR {'Life expectancy at birth (years)': 71.5}\n",
      "SWE {'Life expectancy at birth (years)': 82.6}\n",
      "CHE {'Life expectancy at birth (years)': 83.5}\n",
      "SYR {'Life expectancy at birth (years)': 71.0}\n",
      "TJK {'Life expectancy at birth (years)': 71.2}\n",
      "TZA {'Life expectancy at birth (years)': 66.3}\n",
      "THA {'Life expectancy at birth (years)': 75.5}\n",
      "MKD {'Life expectancy at birth (years)': 75.9}\n",
      "TLS {'Life expectancy at birth (years)': 69.2}\n",
      "TGO {'Life expectancy at birth (years)': 60.5}\n",
      "TON {'Life expectancy at birth (years)': 73.2}\n",
      "TTO {'Life expectancy at birth (years)': 70.8}\n",
      "TUN {'Life expectancy at birth (years)': 75.9}\n",
      "TUR {'Life expectancy at birth (years)': 76.0}\n",
      "TKM {'Life expectancy at birth (years)': 68.0}\n",
      "UGA {'Life expectancy at birth (years)': 60.2}\n",
      "UKR {'Life expectancy at birth (years)': 72.1}\n",
      "ARE {'Life expectancy at birth (years)': 77.4}\n",
      "GBR {'Life expectancy at birth (years)': 81.7}\n",
      "USA {'Life expectancy at birth (years)': 79.5}\n",
      "URY {'Life expectancy at birth (years)': 77.6}\n",
      "UZB {'Life expectancy at birth (years)': 71.4}\n",
      "VUT {'Life expectancy at birth (years)': 72.3}\n",
      "VEN {'Life expectancy at birth (years)': 74.7}\n",
      "VNM {'Life expectancy at birth (years)': 76.5}\n",
      "YEM {'Life expectancy at birth (years)': 65.2}\n",
      "ZMB {'Life expectancy at birth (years)': 62.3}\n",
      "ZWE {'Life expectancy at birth (years)': 61.7}\n"
     ]
    }
   ],
   "source": [
    "for k, v in indic.items():\n",
    "    print(k,v)"
   ]
  },
  {
   "cell_type": "code",
   "execution_count": 118,
   "metadata": {},
   "outputs": [],
   "source": [
    "def add_indicator_to(dictionary, indicator):\n",
    "    indicator_data = df[df['indicator_name']==indicator]\n",
    "    zipped_values = zip(list(indicator_data['iso3']), list(indicator_data['2017']))\n",
    "    for k, v in zipped_values:\n",
    "        try:\n",
    "            dictionary[k][indicator] = v\n",
    "        except:\n",
    "            print(\"failed with key: \"+k+\" on \"+indicator)"
   ]
  },
  {
   "cell_type": "code",
   "execution_count": 119,
   "metadata": {},
   "outputs": [
    {
     "name": "stdout",
     "output_type": "stream",
     "text": [
      "failed with key: MCO on Infants lacking immunization, measles (% of one-year-olds)\n",
      "failed with key: NRU on Infants lacking immunization, measles (% of one-year-olds)\n",
      "failed with key: SMR on Infants lacking immunization, measles (% of one-year-olds)\n",
      "failed with key: TUV on Infants lacking immunization, measles (% of one-year-olds)\n"
     ]
    }
   ],
   "source": [
    "vaccination = 'Infants lacking immunization, measles (% of one-year-olds)'\n",
    "add_indicator_to(indic, vaccination)"
   ]
  },
  {
   "cell_type": "code",
   "execution_count": 120,
   "metadata": {},
   "outputs": [
    {
     "name": "stdout",
     "output_type": "stream",
     "text": [
      "failed with key: MCO on Share of seats in parliament (% held by women)\n",
      "failed with key: NRU on Share of seats in parliament (% held by women)\n",
      "failed with key: SMR on Share of seats in parliament (% held by women)\n",
      "failed with key: TUV on Share of seats in parliament (% held by women)\n",
      "failed with key: NRU on Expected years of schooling (years)\n",
      "failed with key: SMR on Expected years of schooling (years)\n",
      "failed with key: NRU on Expected years of schooling, female (years)\n",
      "failed with key: SMR on Expected years of schooling, female (years)\n",
      "failed with key: NRU on Expected years of schooling, male (years)\n",
      "failed with key: SMR on Expected years of schooling, male (years)\n"
     ]
    }
   ],
   "source": [
    "indicators = [\n",
    "    'Share of seats in parliament (% held by women)',\n",
    "    'Youth unemployment rate (female to male ratio)',\n",
    "    'Expected years of schooling (years)',\n",
    "       'Expected years of schooling, female (years)',\n",
    "       'Expected years of schooling, male (years)',\n",
    "    'Unemployment, total (% of labour force)',\n",
    "       'Unemployment, youth (% ages 15–24)',\n",
    "       'Vulnerable employment (% of total employment)',\n",
    "]\n",
    "for indicator in indicators:\n",
    "    add_indicator_to(indic, indicator)\n"
   ]
  },
  {
   "cell_type": "code",
   "execution_count": 121,
   "metadata": {},
   "outputs": [],
   "source": [
    "final_df = pd.DataFrame(indic).transpose()"
   ]
  },
  {
   "cell_type": "code",
   "execution_count": 122,
   "metadata": {},
   "outputs": [
    {
     "data": {
      "text/plain": [
       "Expected years of schooling (years)                           190\n",
       "Expected years of schooling, female (years)                   179\n",
       "Expected years of schooling, male (years)                     179\n",
       "Infants lacking immunization, measles (% of one-year-olds)    189\n",
       "Life expectancy at birth (years)                              191\n",
       "Share of seats in parliament (% held by women)                189\n",
       "Unemployment, total (% of labour force)                       180\n",
       "Unemployment, youth (% ages 15–24)                            180\n",
       "Vulnerable employment (% of total employment)                 180\n",
       "Youth unemployment rate (female to male ratio)                180\n",
       "dtype: int64"
      ]
     },
     "execution_count": 122,
     "metadata": {},
     "output_type": "execute_result"
    }
   ],
   "source": [
    "final_df.count()"
   ]
  },
  {
   "cell_type": "code",
   "execution_count": 124,
   "metadata": {},
   "outputs": [],
   "source": [
    "final_df =final_df.dropna()"
   ]
  },
  {
   "cell_type": "code",
   "execution_count": 125,
   "metadata": {},
   "outputs": [
    {
     "data": {
      "text/plain": [
       "Expected years of schooling (years)                           170\n",
       "Expected years of schooling, female (years)                   170\n",
       "Expected years of schooling, male (years)                     170\n",
       "Infants lacking immunization, measles (% of one-year-olds)    170\n",
       "Life expectancy at birth (years)                              170\n",
       "Share of seats in parliament (% held by women)                170\n",
       "Unemployment, total (% of labour force)                       170\n",
       "Unemployment, youth (% ages 15–24)                            170\n",
       "Vulnerable employment (% of total employment)                 170\n",
       "Youth unemployment rate (female to male ratio)                170\n",
       "dtype: int64"
      ]
     },
     "execution_count": 125,
     "metadata": {},
     "output_type": "execute_result"
    }
   ],
   "source": [
    "final_df.count()"
   ]
  },
  {
   "cell_type": "code",
   "execution_count": 397,
   "metadata": {},
   "outputs": [
    {
     "name": "stderr",
     "output_type": "stream",
     "text": [
      "/home/lukpo/.local/lib/python3.6/site-packages/matplotlib/tight_layout.py:181: UserWarning: Tight layout not applied. The bottom and top margins cannot be made large enough to accommodate all axes decorations. \n",
      "  warnings.warn('Tight layout not applied. '\n"
     ]
    },
    {
     "data": {
      "image/png": "[encoded data removed]",
      "text/plain": [
       "<Figure size 432x288 with 2 Axes>"
      ]
     },
     "metadata": {
      "needs_background": "light"
     },
     "output_type": "display_data"
    }
   ],
   "source": [
    "import seaborn as sns\n",
    "import matplotlib.pyplot as plt\n",
    "%matplotlib inline\n",
    "fig = sns.heatmap(final_df.corr())\n",
    "plt.title(\"Correlation Heatmap\")\n",
    "plt.tight_layout()\n",
    "plt.savefig(\"correlation_heatmap\", figsize=(96,72))"
   ]
  },
  {
   "cell_type": "code",
   "execution_count": 136,
   "metadata": {},
   "outputs": [
    {
     "data": {
      "text/plain": [
       "Index(['AFG', 'ALB', 'DZA', 'AGO', 'ARG', 'ARM', 'AUS', 'AUT', 'AZE', 'BHR',\n",
       "       ...\n",
       "       'GBR', 'USA', 'URY', 'UZB', 'VUT', 'VEN', 'VNM', 'YEM', 'ZMB', 'ZWE'],\n",
       "      dtype='object', length=170)"
      ]
     },
     "execution_count": 136,
     "metadata": {},
     "output_type": "execute_result"
    }
   ],
   "source": [
    "final_df.index"
   ]
  },
  {
   "cell_type": "code",
   "execution_count": 143,
   "metadata": {},
   "outputs": [
    {
     "data": {
      "text/plain": [
       "count    170.000000\n",
       "mean      72.163529\n",
       "std        7.697211\n",
       "min       52.200000\n",
       "25%       66.800000\n",
       "50%       73.800000\n",
       "75%       77.400000\n",
       "max       83.900000\n",
       "Name: Life expectancy at birth (years), dtype: float64"
      ]
     },
     "execution_count": 143,
     "metadata": {},
     "output_type": "execute_result"
    }
   ],
   "source": [
    "final_df[life_expec].describe()"
   ]
  },
  {
   "cell_type": "code",
   "execution_count": 263,
   "metadata": {},
   "outputs": [],
   "source": [
    "train_features = [feature for feature in list(final_df) if feature != life_expec]\n",
    "train_df = final_df.iloc[:150][train_features]\n",
    "train_label = final_df.iloc[:150][life_expec]\n",
    "test_df = final_df.iloc[150:][train_features]\n",
    "test_label = final_df.iloc[150:][life_expec]\n"
   ]
  },
  {
   "cell_type": "code",
   "execution_count": 306,
   "metadata": {},
   "outputs": [],
   "source": [
    "import xgboost as xgb\n",
    "\n",
    "\n",
    "dtrain = xgb.DMatrix(train_df, label=train_label)\n",
    "dtest = xgb.DMatrix(test_df, label=test_label)\n",
    "# specify parameters via map\n",
    "param = {'max_depth':6,\n",
    "         'eta':1,  #this is the default value anyway\n",
    "         'colsample_bytree':1  #this is the default value anyway\n",
    "        }\n",
    "\n",
    "num_round = 15\n",
    "initial_trees = xgb.train(param, dtrain, num_round)\n",
    "# make prediction\n",
    "first_preds = initial_trees.predict(dtest)"
   ]
  },
  {
   "cell_type": "code",
   "execution_count": 307,
   "metadata": {},
   "outputs": [
    {
     "data": {
      "text/plain": [
       "array([68.66617 , 61.48115 , 74.0443  , 78.71511 , 78.14898 , 80.51852 ,\n",
       "       72.17307 , 65.37586 , 75.38949 , 77.51605 , 82.26712 , 77.91969 ,\n",
       "       71.2967  , 72.611015, 66.30306 , 75.065186, 77.31406 , 61.713524,\n",
       "       70.75769 , 65.46725 ], dtype=float32)"
      ]
     },
     "execution_count": 307,
     "metadata": {},
     "output_type": "execute_result"
    }
   ],
   "source": [
    "first_preds"
   ]
  },
  {
   "cell_type": "code",
   "execution_count": 323,
   "metadata": {},
   "outputs": [
    {
     "data": {
      "text/plain": [
       "4.023551214123461"
      ]
     },
     "execution_count": 323,
     "metadata": {},
     "output_type": "execute_result"
    }
   ],
   "source": [
    "import math \n",
    "\n",
    "def msesqrt(std, test_label, preds):\n",
    "    squared_errors = [diff*diff for diff in (test_label - preds)]\n",
    "    return math.sqrt(sum(squared_errors)/len(preds))\n",
    "\n",
    "msesqrt(std, test_label, first_preds)"
   ]
  },
  {
   "cell_type": "code",
   "execution_count": 326,
   "metadata": {},
   "outputs": [
    {
     "data": {
      "text/plain": [
       "TLS    0.533832\n",
       "TGO   -0.981152\n",
       "TON   -0.844296\n",
       "TTO   -7.915111\n",
       "TUN   -2.248979\n",
       "TUR   -4.518517\n",
       "TKM   -4.173073\n",
       "UGA   -5.175862\n",
       "UKR   -3.289488\n",
       "ARE   -0.116052\n",
       "GBR   -0.567120\n",
       "USA    1.580307\n",
       "URY    6.303300\n",
       "UZB   -1.211015\n",
       "VUT    5.996938\n",
       "VEN   -0.365186\n",
       "VNM   -0.814056\n",
       "YEM    3.486476\n",
       "ZMB   -8.457690\n",
       "ZWE   -3.767247\n",
       "Name: Life expectancy at birth (years), dtype: float64"
      ]
     },
     "execution_count": 326,
     "metadata": {},
     "output_type": "execute_result"
    }
   ],
   "source": [
    "test_label - first_preds"
   ]
  },
  {
   "cell_type": "code",
   "execution_count": 384,
   "metadata": {},
   "outputs": [],
   "source": [
    "param = {'max_depth':5,\n",
    "         'eta':.1,  #this is the default value anyway\n",
    "         'colsample_bytree':.75  #this is the default value anyway\n",
    "        }\n",
    "num_round = 40\n",
    "new_tree = xgb.train(param, dtrain, num_round)\n",
    "# make prediction\n",
    "new_preds = new_tree.predict(dtest)"
   ]
  },
  {
   "cell_type": "code",
   "execution_count": 385,
   "metadata": {},
   "outputs": [
    {
     "data": {
      "text/plain": [
       "3.1542598764813596"
      ]
     },
     "execution_count": 385,
     "metadata": {},
     "output_type": "execute_result"
    }
   ],
   "source": [
    "msesqrt(std, test_label, new_preds)"
   ]
  },
  {
   "cell_type": "code",
   "execution_count": 386,
   "metadata": {},
   "outputs": [
    {
     "data": {
      "text/plain": [
       "TLS   -0.854657\n",
       "TGO   -3.954330\n",
       "TON   -0.169690\n",
       "TTO   -2.735004\n",
       "TUN    0.132704\n",
       "TUR   -0.790581\n",
       "TKM   -0.779831\n",
       "UGA   -3.915250\n",
       "UKR   -2.329787\n",
       "ARE    2.499434\n",
       "GBR    1.294406\n",
       "USA    2.790764\n",
       "URY    3.438387\n",
       "UZB    0.608466\n",
       "VUT    7.423917\n",
       "VEN   -0.666745\n",
       "VNM    3.804672\n",
       "YEM    0.537662\n",
       "ZMB   -6.903094\n",
       "ZWE   -2.687543\n",
       "Name: Life expectancy at birth (years), dtype: float64"
      ]
     },
     "execution_count": 386,
     "metadata": {},
     "output_type": "execute_result"
    }
   ],
   "source": [
    "test_label - new_preds"
   ]
  },
  {
   "cell_type": "code",
   "execution_count": 400,
   "metadata": {
    "scrolled": true
   },
   "outputs": [
    {
     "data": {
      "image/png": "[encoded data removed]",
      "text/plain": [
       "<Figure size 432x288 with 1 Axes>"
      ]
     },
     "metadata": {
      "needs_background": "light"
     },
     "output_type": "display_data"
    }
   ],
   "source": [
    "fig = xgb.plot_importance(new_tree)"
   ]
  },
  {
   "cell_type": "code",
   "execution_count": 388,
   "metadata": {},
   "outputs": [
    {
     "data": {
      "text/plain": [
       "<matplotlib.axes._subplots.AxesSubplot at 0x7fde4709aef0>"
      ]
     },
     "execution_count": 388,
     "metadata": {},
     "output_type": "execute_result"
    },
    {
     "data": {
      "image/png": "[encoded data removed]",
      "text/plain": [
       "<Figure size 432x288 with 1 Axes>"
      ]
     },
     "metadata": {
      "needs_background": "light"
     },
     "output_type": "display_data"
    }
   ],
   "source": [
    "xgb.plot_importance(initial_trees)"
   ]
  },
  {
   "cell_type": "code",
   "execution_count": 389,
   "metadata": {},
   "outputs": [],
   "source": [
    "agg_preds = (new_preds + first_preds)/2"
   ]
  },
  {
   "cell_type": "code",
   "execution_count": 390,
   "metadata": {},
   "outputs": [
    {
     "data": {
      "text/plain": [
       "array([69.36041 , 62.967743, 73.70699 , 76.12506 , 76.95814 , 78.65455 ,\n",
       "       70.476456, 64.74556 , 74.90964 , 76.20831 , 81.33636 , 77.31447 ,\n",
       "       72.72916 , 71.70128 , 65.58957 , 75.215965, 75.00469 , 63.18793 ,\n",
       "       69.98039 , 64.9274  ], dtype=float32)"
      ]
     },
     "execution_count": 390,
     "metadata": {},
     "output_type": "execute_result"
    }
   ],
   "source": [
    "agg_preds"
   ]
  },
  {
   "cell_type": "code",
   "execution_count": 391,
   "metadata": {},
   "outputs": [
    {
     "data": {
      "text/plain": [
       "3.3816703332355047"
      ]
     },
     "execution_count": 391,
     "metadata": {},
     "output_type": "execute_result"
    }
   ],
   "source": [
    "msesqrt(std, test_label, agg_preds)"
   ]
  }
 ],
 "metadata": {
  "kernelspec": {
   "display_name": "Python 3",
   "language": "python",
   "name": "python3"
  },
  "language_info": {
   "codemirror_mode": {
    "name": "ipython",
    "version": 3
   },
   "file_extension": ".py",
   "mimetype": "text/x-python",
   "name": "python",
   "nbconvert_exporter": "python",
   "pygments_lexer": "ipython3",
   "version": "3.6.7"
  }
 },
 "nbformat": 4,
 "nbformat_minor": 2
}
